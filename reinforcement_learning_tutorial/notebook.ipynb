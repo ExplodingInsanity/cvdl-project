{
 "cells": [
  {
   "cell_type": "code",
   "execution_count": 8,
   "metadata": {},
   "outputs": [
    {
     "name": "stdout",
     "output_type": "stream",
     "text": [
      "Requirement already satisfied: stable_baselines3[extra] in c:\\users\\darius\\appdata\\local\\programs\\python\\python38\\lib\\site-packages (1.3.0)\n",
      "Requirement already satisfied: pandas in c:\\users\\darius\\appdata\\local\\programs\\python\\python38\\lib\\site-packages (from stable_baselines3[extra]) (1.2.4)\n",
      "Requirement already satisfied: cloudpickle in c:\\users\\darius\\appdata\\local\\programs\\python\\python38\\lib\\site-packages (from stable_baselines3[extra]) (1.6.0)\n",
      "Requirement already satisfied: torch>=1.8.1 in c:\\users\\darius\\appdata\\local\\programs\\python\\python38\\lib\\site-packages (from stable_baselines3[extra]) (1.10.0+cu113)\n",
      "Requirement already satisfied: matplotlib in c:\\users\\darius\\appdata\\local\\programs\\python\\python38\\lib\\site-packages (from stable_baselines3[extra]) (3.4.2)\n",
      "Requirement already satisfied: numpy in c:\\users\\darius\\appdata\\local\\programs\\python\\python38\\lib\\site-packages (from stable_baselines3[extra]) (1.19.5)\n",
      "Requirement already satisfied: gym<0.20,>=0.17 in c:\\users\\darius\\appdata\\local\\programs\\python\\python38\\lib\\site-packages (from stable_baselines3[extra]) (0.19.0)\n",
      "Requirement already satisfied: psutil in c:\\users\\darius\\appdata\\local\\programs\\python\\python38\\lib\\site-packages (from stable_baselines3[extra]) (5.8.0)\n",
      "Requirement already satisfied: pillow in c:\\users\\darius\\appdata\\local\\programs\\python\\python38\\lib\\site-packages (from stable_baselines3[extra]) (8.2.0)\n",
      "Requirement already satisfied: tensorboard>=2.2.0 in c:\\users\\darius\\appdata\\local\\programs\\python\\python38\\lib\\site-packages (from stable_baselines3[extra]) (2.5.0)\n",
      "Requirement already satisfied: opencv-python in c:\\users\\darius\\appdata\\local\\programs\\python\\python38\\lib\\site-packages (from stable_baselines3[extra]) (4.5.2.52)\n",
      "Requirement already satisfied: atari-py~=0.2.0 in c:\\users\\darius\\appdata\\local\\programs\\python\\python38\\lib\\site-packages (from stable_baselines3[extra]) (0.2.9)\n",
      "Requirement already satisfied: six in c:\\users\\darius\\appdata\\local\\programs\\python\\python38\\lib\\site-packages (from atari-py~=0.2.0->stable_baselines3[extra]) (1.15.0)\n",
      "Requirement already satisfied: tensorboard-plugin-wit>=1.6.0 in c:\\users\\darius\\appdata\\local\\programs\\python\\python38\\lib\\site-packages (from tensorboard>=2.2.0->stable_baselines3[extra]) (1.8.0)\n",
      "Requirement already satisfied: protobuf>=3.6.0 in c:\\users\\darius\\appdata\\local\\programs\\python\\python38\\lib\\site-packages (from tensorboard>=2.2.0->stable_baselines3[extra]) (3.16.0)\n",
      "Requirement already satisfied: setuptools>=41.0.0 in c:\\users\\darius\\appdata\\local\\programs\\python\\python38\\lib\\site-packages (from tensorboard>=2.2.0->stable_baselines3[extra]) (49.2.1)\n",
      "Requirement already satisfied: google-auth<2,>=1.6.3 in c:\\users\\darius\\appdata\\local\\programs\\python\\python38\\lib\\site-packages (from tensorboard>=2.2.0->stable_baselines3[extra]) (1.30.0)\n",
      "Requirement already satisfied: tensorboard-data-server<0.7.0,>=0.6.0 in c:\\users\\darius\\appdata\\local\\programs\\python\\python38\\lib\\site-packages (from tensorboard>=2.2.0->stable_baselines3[extra]) (0.6.1)\n",
      "Requirement already satisfied: markdown>=2.6.8 in c:\\users\\darius\\appdata\\local\\programs\\python\\python38\\lib\\site-packages (from tensorboard>=2.2.0->stable_baselines3[extra]) (3.3.4)\n",
      "Requirement already satisfied: grpcio>=1.24.3 in c:\\users\\darius\\appdata\\local\\programs\\python\\python38\\lib\\site-packages (from tensorboard>=2.2.0->stable_baselines3[extra]) (1.32.0)\n",
      "Requirement already satisfied: absl-py>=0.4 in c:\\users\\darius\\appdata\\local\\programs\\python\\python38\\lib\\site-packages (from tensorboard>=2.2.0->stable_baselines3[extra]) (0.12.0)\n",
      "Requirement already satisfied: wheel>=0.26 in c:\\users\\darius\\appdata\\local\\programs\\python\\python38\\lib\\site-packages (from tensorboard>=2.2.0->stable_baselines3[extra]) (0.36.2)\n",
      "Requirement already satisfied: requests<3,>=2.21.0 in c:\\users\\darius\\appdata\\local\\programs\\python\\python38\\lib\\site-packages (from tensorboard>=2.2.0->stable_baselines3[extra]) (2.25.1)\n",
      "Requirement already satisfied: google-auth-oauthlib<0.5,>=0.4.1 in c:\\users\\darius\\appdata\\local\\programs\\python\\python38\\lib\\site-packages (from tensorboard>=2.2.0->stable_baselines3[extra]) (0.4.4)\n",
      "Requirement already satisfied: werkzeug>=0.11.15 in c:\\users\\darius\\appdata\\local\\programs\\python\\python38\\lib\\site-packages (from tensorboard>=2.2.0->stable_baselines3[extra]) (2.0.1)\n",
      "Requirement already satisfied: typing-extensions in c:\\users\\darius\\appdata\\local\\programs\\python\\python38\\lib\\site-packages (from torch>=1.8.1->stable_baselines3[extra]) (3.7.4.3)\n",
      "Requirement already satisfied: cycler>=0.10 in c:\\users\\darius\\appdata\\local\\programs\\python\\python38\\lib\\site-packages (from matplotlib->stable_baselines3[extra]) (0.10.0)\n",
      "Requirement already satisfied: python-dateutil>=2.7 in c:\\users\\darius\\appdata\\roaming\\python\\python38\\site-packages (from matplotlib->stable_baselines3[extra]) (2.8.1)\n",
      "Requirement already satisfied: pyparsing>=2.2.1 in c:\\users\\darius\\appdata\\local\\programs\\python\\python38\\lib\\site-packages (from matplotlib->stable_baselines3[extra]) (2.4.7)\n",
      "Requirement already satisfied: kiwisolver>=1.0.1 in c:\\users\\darius\\appdata\\local\\programs\\python\\python38\\lib\\site-packages (from matplotlib->stable_baselines3[extra]) (1.3.1)\n",
      "Requirement already satisfied: pytz>=2017.3 in c:\\users\\darius\\appdata\\local\\programs\\python\\python38\\lib\\site-packages (from pandas->stable_baselines3[extra]) (2021.1)\n",
      "Requirement already satisfied: pyasn1-modules>=0.2.1 in c:\\users\\darius\\appdata\\local\\programs\\python\\python38\\lib\\site-packages (from google-auth<2,>=1.6.3->tensorboard>=2.2.0->stable_baselines3[extra]) (0.2.8)\n",
      "Requirement already satisfied: cachetools<5.0,>=2.0.0 in c:\\users\\darius\\appdata\\local\\programs\\python\\python38\\lib\\site-packages (from google-auth<2,>=1.6.3->tensorboard>=2.2.0->stable_baselines3[extra]) (4.2.2)\n",
      "Requirement already satisfied: rsa<5,>=3.1.4 in c:\\users\\darius\\appdata\\local\\programs\\python\\python38\\lib\\site-packages (from google-auth<2,>=1.6.3->tensorboard>=2.2.0->stable_baselines3[extra]) (4.7.2)\n",
      "Requirement already satisfied: requests-oauthlib>=0.7.0 in c:\\users\\darius\\appdata\\local\\programs\\python\\python38\\lib\\site-packages (from google-auth-oauthlib<0.5,>=0.4.1->tensorboard>=2.2.0->stable_baselines3[extra]) (1.3.0)\n",
      "Requirement already satisfied: certifi>=2017.4.17 in c:\\users\\darius\\appdata\\local\\programs\\python\\python38\\lib\\site-packages (from requests<3,>=2.21.0->tensorboard>=2.2.0->stable_baselines3[extra]) (2020.12.5)\n",
      "Requirement already satisfied: urllib3<1.27,>=1.21.1 in c:\\users\\darius\\appdata\\local\\programs\\python\\python38\\lib\\site-packages (from requests<3,>=2.21.0->tensorboard>=2.2.0->stable_baselines3[extra]) (1.26.4)\n",
      "Requirement already satisfied: idna<3,>=2.5 in c:\\users\\darius\\appdata\\local\\programs\\python\\python38\\lib\\site-packages (from requests<3,>=2.21.0->tensorboard>=2.2.0->stable_baselines3[extra]) (2.10)\n",
      "Requirement already satisfied: chardet<5,>=3.0.2 in c:\\users\\darius\\appdata\\local\\programs\\python\\python38\\lib\\site-packages (from requests<3,>=2.21.0->tensorboard>=2.2.0->stable_baselines3[extra]) (4.0.0)\n",
      "Requirement already satisfied: pyasn1<0.5.0,>=0.4.6 in c:\\users\\darius\\appdata\\local\\programs\\python\\python38\\lib\\site-packages (from pyasn1-modules>=0.2.1->google-auth<2,>=1.6.3->tensorboard>=2.2.0->stable_baselines3[extra]) (0.4.8)\n",
      "Requirement already satisfied: oauthlib>=3.0.0 in c:\\users\\darius\\appdata\\local\\programs\\python\\python38\\lib\\site-packages (from requests-oauthlib>=0.7.0->google-auth-oauthlib<0.5,>=0.4.1->tensorboard>=2.2.0->stable_baselines3[extra]) (3.1.0)\n",
      "Requirement already satisfied: pyglet in c:\\users\\darius\\appdata\\local\\programs\\python\\python38\\lib\\site-packages (1.5.21)\n",
      "Looking in links: https://download.pytorch.org/whl/cu113/torch_stable.html\n",
      "Requirement already satisfied: torch==1.10.0+cu113 in c:\\users\\darius\\appdata\\local\\programs\\python\\python38\\lib\\site-packages (1.10.0+cu113)\n",
      "Requirement already satisfied: torchvision==0.11.1+cu113 in c:\\users\\darius\\appdata\\local\\programs\\python\\python38\\lib\\site-packages (0.11.1+cu113)\n",
      "Requirement already satisfied: torchaudio===0.10.0+cu113 in c:\\users\\darius\\appdata\\local\\programs\\python\\python38\\lib\\site-packages (0.10.0+cu113)\n",
      "Requirement already satisfied: typing-extensions in c:\\users\\darius\\appdata\\local\\programs\\python\\python38\\lib\\site-packages (from torch==1.10.0+cu113) (3.7.4.3)\n",
      "Requirement already satisfied: pillow!=8.3.0,>=5.3.0 in c:\\users\\darius\\appdata\\local\\programs\\python\\python38\\lib\\site-packages (from torchvision==0.11.1+cu113) (8.2.0)\n",
      "Requirement already satisfied: numpy in c:\\users\\darius\\appdata\\local\\programs\\python\\python38\\lib\\site-packages (from torchvision==0.11.1+cu113) (1.19.5)\n"
     ]
    }
   ],
   "source": [
    "!pip install stable_baselines3[extra]\n",
    "!pip install pyglet\n",
    "!pip3 install torch==1.10.0+cu113 torchvision==0.11.1+cu113 torchaudio===0.10.0+cu113 -f https://download.pytorch.org/whl/cu113/torch_stable.html"
   ]
  },
  {
   "cell_type": "code",
   "execution_count": 9,
   "metadata": {},
   "outputs": [],
   "source": [
    "# I run this with Python 3.8.8 64-bit\n",
    "# pip install stable_baselines3[extra] \n",
    "# Tutorial video : https://www.youtube.com/watch?v=Mut_u40Sqz4\n",
    "import os\n",
    "import gym\n",
    "from stable_baselines3 import PPO\n",
    "from stable_baselines3.common.vec_env import dummy_vec_env\n",
    "from stable_baselines3.common.evaluation import evaluate_policy\n",
    "\n"
   ]
  },
  {
   "cell_type": "code",
   "execution_count": 10,
   "metadata": {},
   "outputs": [],
   "source": [
    "enviroment_name = 'CartPole-v0'\n",
    "env = gym.make(enviroment_name)"
   ]
  },
  {
   "cell_type": "code",
   "execution_count": 11,
   "metadata": {},
   "outputs": [
    {
     "name": "stdout",
     "output_type": "stream",
     "text": [
      "Episode : 0 Score : 19.0\n",
      "Episode : 1 Score : 23.0\n",
      "Episode : 2 Score : 26.0\n",
      "Episode : 3 Score : 18.0\n",
      "Episode : 4 Score : 12.0\n"
     ]
    }
   ],
   "source": [
    "episodes = 5\n",
    "\n",
    "for episode in range(episodes) :\n",
    "    state = env.reset()\n",
    "    done = False\n",
    "    score = 0\n",
    "\n",
    "    while not done :\n",
    "        # Doesn't work with google colab\n",
    "        env.render()\n",
    "        action = env.action_space.sample()\n",
    "        n_state, reward, done, info = env.step(action)\n",
    "        score += reward\n",
    "    print('Episode : {} Score : {}'.format(episode, score))\n",
    "\n",
    "env.close()"
   ]
  },
  {
   "cell_type": "code",
   "execution_count": 12,
   "metadata": {},
   "outputs": [
    {
     "data": {
      "text/plain": [
       "Box([-4.8000002e+00 -3.4028235e+38 -4.1887903e-01 -3.4028235e+38], [4.8000002e+00 3.4028235e+38 4.1887903e-01 3.4028235e+38], (4,), float32)"
      ]
     },
     "execution_count": 12,
     "metadata": {},
     "output_type": "execute_result"
    }
   ],
   "source": [
    "env.action_space\n",
    "env.observation_space\n"
   ]
  },
  {
   "cell_type": "code",
   "execution_count": 13,
   "metadata": {},
   "outputs": [
    {
     "name": "stdout",
     "output_type": "stream",
     "text": [
      "Training\\Logs\n",
      "Using cuda device\n"
     ]
    }
   ],
   "source": [
    "log_path = os.path.join('Training' , 'Logs')\n",
    "print(log_path)\n",
    "\n",
    "env = gym.make(enviroment_name)\n",
    "env = dummy_vec_env.DummyVecEnv([lambda : env])\n",
    "model = PPO('MlpPolicy', env, verbose = 1, tensorboard_log=log_path)\n"
   ]
  },
  {
   "cell_type": "code",
   "execution_count": 14,
   "metadata": {},
   "outputs": [
    {
     "name": "stdout",
     "output_type": "stream",
     "text": [
      "Logging to Training\\Logs\\PPO_3\n",
      "-----------------------------\n",
      "| time/              |      |\n",
      "|    fps             | 309  |\n",
      "|    iterations      | 1    |\n",
      "|    time_elapsed    | 6    |\n",
      "|    total_timesteps | 2048 |\n",
      "-----------------------------\n",
      "-----------------------------------------\n",
      "| time/                   |             |\n",
      "|    fps                  | 273         |\n",
      "|    iterations           | 2           |\n",
      "|    time_elapsed         | 14          |\n",
      "|    total_timesteps      | 4096        |\n",
      "| train/                  |             |\n",
      "|    approx_kl            | 0.008116517 |\n",
      "|    clip_fraction        | 0.108       |\n",
      "|    clip_range           | 0.2         |\n",
      "|    entropy_loss         | -0.686      |\n",
      "|    explained_variance   | -0.0023     |\n",
      "|    learning_rate        | 0.0003      |\n",
      "|    loss                 | 7.75        |\n",
      "|    n_updates            | 10          |\n",
      "|    policy_gradient_loss | -0.0174     |\n",
      "|    value_loss           | 57.1        |\n",
      "-----------------------------------------\n",
      "-----------------------------------------\n",
      "| time/                   |             |\n",
      "|    fps                  | 261         |\n",
      "|    iterations           | 3           |\n",
      "|    time_elapsed         | 23          |\n",
      "|    total_timesteps      | 6144        |\n",
      "| train/                  |             |\n",
      "|    approx_kl            | 0.010509111 |\n",
      "|    clip_fraction        | 0.0759      |\n",
      "|    clip_range           | 0.2         |\n",
      "|    entropy_loss         | -0.667      |\n",
      "|    explained_variance   | 0.0671      |\n",
      "|    learning_rate        | 0.0003      |\n",
      "|    loss                 | 13.2        |\n",
      "|    n_updates            | 20          |\n",
      "|    policy_gradient_loss | -0.019      |\n",
      "|    value_loss           | 35.1        |\n",
      "-----------------------------------------\n",
      "-----------------------------------------\n",
      "| time/                   |             |\n",
      "|    fps                  | 260         |\n",
      "|    iterations           | 4           |\n",
      "|    time_elapsed         | 31          |\n",
      "|    total_timesteps      | 8192        |\n",
      "| train/                  |             |\n",
      "|    approx_kl            | 0.008235989 |\n",
      "|    clip_fraction        | 0.0975      |\n",
      "|    clip_range           | 0.2         |\n",
      "|    entropy_loss         | -0.631      |\n",
      "|    explained_variance   | 0.224       |\n",
      "|    learning_rate        | 0.0003      |\n",
      "|    loss                 | 21.4        |\n",
      "|    n_updates            | 30          |\n",
      "|    policy_gradient_loss | -0.022      |\n",
      "|    value_loss           | 49          |\n",
      "-----------------------------------------\n",
      "-----------------------------------------\n",
      "| time/                   |             |\n",
      "|    fps                  | 261         |\n",
      "|    iterations           | 5           |\n",
      "|    time_elapsed         | 39          |\n",
      "|    total_timesteps      | 10240       |\n",
      "| train/                  |             |\n",
      "|    approx_kl            | 0.008770581 |\n",
      "|    clip_fraction        | 0.075       |\n",
      "|    clip_range           | 0.2         |\n",
      "|    entropy_loss         | -0.61       |\n",
      "|    explained_variance   | 0.294       |\n",
      "|    learning_rate        | 0.0003      |\n",
      "|    loss                 | 20.4        |\n",
      "|    n_updates            | 40          |\n",
      "|    policy_gradient_loss | -0.0194     |\n",
      "|    value_loss           | 53.8        |\n",
      "-----------------------------------------\n",
      "-----------------------------------------\n",
      "| time/                   |             |\n",
      "|    fps                  | 262         |\n",
      "|    iterations           | 6           |\n",
      "|    time_elapsed         | 46          |\n",
      "|    total_timesteps      | 12288       |\n",
      "| train/                  |             |\n",
      "|    approx_kl            | 0.010552752 |\n",
      "|    clip_fraction        | 0.138       |\n",
      "|    clip_range           | 0.2         |\n",
      "|    entropy_loss         | -0.579      |\n",
      "|    explained_variance   | 0.525       |\n",
      "|    learning_rate        | 0.0003      |\n",
      "|    loss                 | 20.1        |\n",
      "|    n_updates            | 50          |\n",
      "|    policy_gradient_loss | -0.0215     |\n",
      "|    value_loss           | 58.2        |\n",
      "-----------------------------------------\n",
      "-----------------------------------------\n",
      "| time/                   |             |\n",
      "|    fps                  | 263         |\n",
      "|    iterations           | 7           |\n",
      "|    time_elapsed         | 54          |\n",
      "|    total_timesteps      | 14336       |\n",
      "| train/                  |             |\n",
      "|    approx_kl            | 0.005548953 |\n",
      "|    clip_fraction        | 0.049       |\n",
      "|    clip_range           | 0.2         |\n",
      "|    entropy_loss         | -0.597      |\n",
      "|    explained_variance   | 0.492       |\n",
      "|    learning_rate        | 0.0003      |\n",
      "|    loss                 | 37.6        |\n",
      "|    n_updates            | 60          |\n",
      "|    policy_gradient_loss | -0.00807    |\n",
      "|    value_loss           | 54.6        |\n",
      "-----------------------------------------\n",
      "-----------------------------------------\n",
      "| time/                   |             |\n",
      "|    fps                  | 264         |\n",
      "|    iterations           | 8           |\n",
      "|    time_elapsed         | 61          |\n",
      "|    total_timesteps      | 16384       |\n",
      "| train/                  |             |\n",
      "|    approx_kl            | 0.007470752 |\n",
      "|    clip_fraction        | 0.0855      |\n",
      "|    clip_range           | 0.2         |\n",
      "|    entropy_loss         | -0.589      |\n",
      "|    explained_variance   | 0.606       |\n",
      "|    learning_rate        | 0.0003      |\n",
      "|    loss                 | 14.9        |\n",
      "|    n_updates            | 70          |\n",
      "|    policy_gradient_loss | -0.00802    |\n",
      "|    value_loss           | 55.2        |\n",
      "-----------------------------------------\n",
      "------------------------------------------\n",
      "| time/                   |              |\n",
      "|    fps                  | 262          |\n",
      "|    iterations           | 9            |\n",
      "|    time_elapsed         | 70           |\n",
      "|    total_timesteps      | 18432        |\n",
      "| train/                  |              |\n",
      "|    approx_kl            | 0.0060497615 |\n",
      "|    clip_fraction        | 0.0428       |\n",
      "|    clip_range           | 0.2          |\n",
      "|    entropy_loss         | -0.572       |\n",
      "|    explained_variance   | 0.429        |\n",
      "|    learning_rate        | 0.0003       |\n",
      "|    loss                 | 44.9         |\n",
      "|    n_updates            | 80           |\n",
      "|    policy_gradient_loss | -0.00604     |\n",
      "|    value_loss           | 77           |\n",
      "------------------------------------------\n",
      "-----------------------------------------\n",
      "| time/                   |             |\n",
      "|    fps                  | 260         |\n",
      "|    iterations           | 10          |\n",
      "|    time_elapsed         | 78          |\n",
      "|    total_timesteps      | 20480       |\n",
      "| train/                  |             |\n",
      "|    approx_kl            | 0.006752879 |\n",
      "|    clip_fraction        | 0.0347      |\n",
      "|    clip_range           | 0.2         |\n",
      "|    entropy_loss         | -0.568      |\n",
      "|    explained_variance   | 0.571       |\n",
      "|    learning_rate        | 0.0003      |\n",
      "|    loss                 | 42          |\n",
      "|    n_updates            | 90          |\n",
      "|    policy_gradient_loss | -0.0053     |\n",
      "|    value_loss           | 83.9        |\n",
      "-----------------------------------------\n"
     ]
    }
   ],
   "source": [
    "model.learn(total_timesteps=20000)\n",
    "\n",
    "PPO_Path = os.path.join('Training' , 'SavedModels' , 'PPO_ModelCartpole')\n",
    "model.save(PPO_Path)\n",
    "del model"
   ]
  },
  {
   "cell_type": "code",
   "execution_count": 16,
   "metadata": {},
   "outputs": [
    {
     "name": "stderr",
     "output_type": "stream",
     "text": [
      "C:\\Users\\Darius\\AppData\\Local\\Programs\\Python\\Python38\\lib\\site-packages\\stable_baselines3\\common\\evaluation.py:65: UserWarning: Evaluation environment is not wrapped with a ``Monitor`` wrapper. This may result in reporting modified episode lengths and rewards, if other wrappers happen to modify these. Consider wrapping environment first with ``Monitor`` wrapper.\n",
      "  warnings.warn(\n"
     ]
    },
    {
     "data": {
      "text/plain": [
       "(200.0, 0.0)"
      ]
     },
     "execution_count": 16,
     "metadata": {},
     "output_type": "execute_result"
    }
   ],
   "source": [
    "# model = PPO.load(PPO_Path, env = env)\n",
    "\n",
    "evaluate_policy(model, env, n_eval_episodes=10, render=True)"
   ]
  },
  {
   "cell_type": "code",
   "execution_count": 19,
   "metadata": {},
   "outputs": [
    {
     "name": "stdout",
     "output_type": "stream",
     "text": [
      "Episode : 0 Score : [200.]\n",
      "Episode : 1 Score : [200.]\n",
      "Episode : 2 Score : [200.]\n",
      "Episode : 3 Score : [200.]\n",
      "Episode : 4 Score : [200.]\n"
     ]
    }
   ],
   "source": [
    "# env.close()\n",
    "\n",
    "for episode in range(episodes) :\n",
    "    obs = env.reset()\n",
    "    done = False\n",
    "    score = 0\n",
    "\n",
    "    while not done :\n",
    "        # Doesn't work with google colab\n",
    "        env.render()\n",
    "        action, _ = model.predict(obs) # Using the model \n",
    "        obs, reward, done, info = env.step(action)\n",
    "        score += reward\n",
    "    print('Episode : {} Score : {}'.format(episode, score))"
   ]
  }
 ],
 "metadata": {
  "interpreter": {
   "hash": "920143e87a6f73e79fa1fb141217bbfe64ea7f87745c1ea1e308e551bfb77c5d"
  },
  "kernelspec": {
   "display_name": "Python 3.8.8 64-bit",
   "language": "python",
   "name": "python3"
  },
  "language_info": {
   "codemirror_mode": {
    "name": "ipython",
    "version": 3
   },
   "file_extension": ".py",
   "mimetype": "text/x-python",
   "name": "python",
   "nbconvert_exporter": "python",
   "pygments_lexer": "ipython3",
   "version": "3.8.8"
  },
  "orig_nbformat": 4
 },
 "nbformat": 4,
 "nbformat_minor": 2
}
