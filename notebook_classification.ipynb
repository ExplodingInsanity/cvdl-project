{
 "cells": [
  {
   "cell_type": "code",
   "execution_count": null,
   "metadata": {},
   "outputs": [],
   "source": [
    "import cv2\n",
    "import matplotlib.pyplot as plt\n",
    "import pandas as pd\n",
    "import os\n",
    "import tensorflow as tf\n",
    "from tensorflow.keras import layers"
   ]
  },
  {
   "cell_type": "code",
   "execution_count": null,
   "metadata": {},
   "outputs": [],
   "source": [
    "img_dir = './train/kagle_dataset'\n",
    "train_data = tf.keras.preprocessing.image_dataset_from_directory(img_dir,                                                                  \n",
    "    label_mode = \"categorical\",\n",
    "    image_size = (224,224),\n",
    "    batch_size= 32,\n",
    "    seed = 42,\n",
    "    validation_split = 0.25,\n",
    "    subset = \"training\"\n",
    ")\n",
    "test_data = tf.keras.preprocessing.image_dataset_from_directory(img_dir,\n",
    "    label_mode = \"categorical\",\n",
    "    image_size = (224,224),\n",
    "    batch_size = 32,\n",
    "    seed = 42,\n",
    "    validation_split = 0.25,\n",
    "    subset = \"validation\"\n",
    ")"
   ]
  },
  {
   "cell_type": "code",
   "execution_count": null,
   "metadata": {},
   "outputs": [],
   "source": [
    "model = tf.keras.Sequential([\n",
    "    layers.Conv2D(filters = 20, kernel_size = 2,input_shape= (224,224,3),padding=\"same\",activation= \"relu\"),\n",
    "    layers.BatchNormalization(),\n",
    "    layers.MaxPooling2D(pool_size= 2),\n",
    "    layers.Conv2D(filters = 20, kernel_size = 2, padding= \"same\",activation= \"relu\"),\n",
    "    layers.BatchNormalization(),\n",
    "    layers.MaxPooling2D(pool_size= 2),\n",
    "    layers.Conv2D(filters = 20, kernel_size= 2, padding = \"same\",activation= \"relu\"),\n",
    "    layers.BatchNormalization(),\n",
    "    layers.MaxPooling2D(pool_size = 2),\n",
    "    layers.Conv2D(filters = 20, kernel_size= 2, padding = \"same\",activation= \"relu\"),\n",
    "    layers.Flatten(),\n",
    "    layers.Dense(1024, activation = \"relu\"),                        \n",
    "    layers.Dropout(0.3),\n",
    "    layers.Dense(1024, activation = \"relu\"),                          \n",
    "    layers.Dropout(0.3),\n",
    "    layers.Dense(1024, activation = \"relu\"),\n",
    "    layers.Dense(53, activation= \"softmax\")\n",
    "])\n",
    "model.summary()"
   ]
  },
  {
   "cell_type": "code",
   "execution_count": null,
   "metadata": {},
   "outputs": [],
   "source": [
    "if tf.test.gpu_device_name(): \n",
    "    print('Default GPU Device:{}'.format(tf.test.gpu_device_name()))\n",
    "else:\n",
    "   print(\"Please install GPU version of TF\")"
   ]
  },
  {
   "cell_type": "code",
   "execution_count": null,
   "metadata": {},
   "outputs": [],
   "source": [
    "model_checkpoint = tf.keras.callbacks.ModelCheckpoint(filepath='./results/second_run_64_64.h5', verbose=1, save_weights_only=False, save_freq='epoch')\n",
    "model.fit(\n",
    "    train_data, \n",
    "    steps_per_epoch = len(train_data),      \n",
    "    epochs = 200,\n",
    "    validation_data = test_data,\n",
    "    validation_steps = len(test_data),\n",
    "    callbacks = [model_checkpoint]    \n",
    ")\n"
   ]
  }
 ],
 "metadata": {
  "language_info": {
   "name": "python"
  },
  "orig_nbformat": 4
 },
 "nbformat": 4,
 "nbformat_minor": 2
}
