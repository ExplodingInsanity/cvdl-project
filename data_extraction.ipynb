{
 "cells": [
  {
   "cell_type": "code",
   "execution_count": 42,
   "metadata": {},
   "outputs": [],
   "source": [
    "import cv2\n",
    "import os\n",
    "import shutil"
   ]
  },
  {
   "cell_type": "code",
   "execution_count": 60,
   "metadata": {},
   "outputs": [
    {
     "ename": "ValueError",
     "evalue": "invalid literal for int() with base 10: '1958.jpg'",
     "output_type": "error",
     "traceback": [
      "\u001b[1;31m---------------------------------------------------------------------------\u001b[0m",
      "\u001b[1;31mValueError\u001b[0m                                Traceback (most recent call last)",
      "\u001b[1;32m<ipython-input-60-8cad963a0327>\u001b[0m in \u001b[0;36m<module>\u001b[1;34m\u001b[0m\n\u001b[0;32m     26\u001b[0m \u001b[1;33m\u001b[0m\u001b[0m\n\u001b[0;32m     27\u001b[0m         \u001b[0mdetails\u001b[0m \u001b[1;33m=\u001b[0m \u001b[0mimage_name\u001b[0m\u001b[1;33m.\u001b[0m\u001b[0msplit\u001b[0m\u001b[1;33m(\u001b[0m\u001b[1;34m\"_\"\u001b[0m\u001b[1;33m)\u001b[0m\u001b[1;33m\u001b[0m\u001b[1;33m\u001b[0m\u001b[0m\n\u001b[1;32m---> 28\u001b[1;33m         \u001b[0mbirth_age\u001b[0m \u001b[1;33m=\u001b[0m \u001b[0mint\u001b[0m\u001b[1;33m(\u001b[0m\u001b[0mdetails\u001b[0m\u001b[1;33m[\u001b[0m\u001b[1;36m2\u001b[0m\u001b[1;33m]\u001b[0m\u001b[1;33m.\u001b[0m\u001b[0msplit\u001b[0m\u001b[1;33m(\u001b[0m\u001b[1;34m\"-\"\u001b[0m\u001b[1;33m)\u001b[0m\u001b[1;33m[\u001b[0m\u001b[1;36m0\u001b[0m\u001b[1;33m]\u001b[0m\u001b[1;33m)\u001b[0m\u001b[1;33m\u001b[0m\u001b[1;33m\u001b[0m\u001b[0m\n\u001b[0m\u001b[0;32m     29\u001b[0m         \u001b[0mphoto_age\u001b[0m \u001b[1;33m=\u001b[0m \u001b[0mint\u001b[0m\u001b[1;33m(\u001b[0m\u001b[0mdetails\u001b[0m\u001b[1;33m[\u001b[0m\u001b[1;36m3\u001b[0m\u001b[1;33m]\u001b[0m\u001b[1;33m.\u001b[0m\u001b[0msplit\u001b[0m\u001b[1;33m(\u001b[0m\u001b[1;34m\".\"\u001b[0m\u001b[1;33m)\u001b[0m\u001b[1;33m[\u001b[0m\u001b[1;36m0\u001b[0m\u001b[1;33m]\u001b[0m\u001b[1;33m)\u001b[0m\u001b[1;33m\u001b[0m\u001b[1;33m\u001b[0m\u001b[0m\n\u001b[0;32m     30\u001b[0m         \u001b[0mcurrent_age\u001b[0m \u001b[1;33m=\u001b[0m \u001b[0mabs\u001b[0m\u001b[1;33m(\u001b[0m\u001b[0mphoto_age\u001b[0m \u001b[1;33m-\u001b[0m \u001b[0mbirth_age\u001b[0m\u001b[1;33m)\u001b[0m\u001b[1;33m\u001b[0m\u001b[1;33m\u001b[0m\u001b[0m\n",
      "\u001b[1;31mValueError\u001b[0m: invalid literal for int() with base 10: '1958.jpg'"
     ]
    }
   ],
   "source": [
    "train_data_file_location = os.path.join('.', 'train', 'wiki_crop', '00')\n",
    "prepared_data_file_location = os.path.join('.', 'train', 'processed_images')\n",
    "age_classes = [\n",
    "    '0_5',\n",
    "    '5_8',\n",
    "    '8_12',\n",
    "    '12_16',\n",
    "    '16_20',\n",
    "    '20_25',\n",
    "    '25_32',\n",
    "    '32_40',\n",
    "    '40_48',\n",
    "    '48_56',\n",
    "    '56_65',\n",
    "    '65_100'\n",
    "]\n",
    "\n",
    "for i in range(100) :\n",
    "    if i <= 9 :\n",
    "        i = '0' + str(i)\n",
    "    \n",
    "    train_data_file_location = os.path.join('.', 'train', 'wiki_crop', str(i))\n",
    "\n",
    "    for image_name in os.listdir(train_data_file_location) :\n",
    "        file_path = os.path.join(train_data_file_location, image_name)\n",
    "        \n",
    "        details = image_name.split(\"_\")\n",
    "        birth_age = int(details[2].split(\"-\")[0])\n",
    "        photo_age = int(details[3].split(\".\")[0])\n",
    "        current_age = abs(photo_age - birth_age)\n",
    "        print(\"Found something {}\".format(current_age))\n",
    "        \n",
    "        for age_class in age_classes :\n",
    "            splitted = age_class.split(\"_\")\n",
    "            start_age, end_age = splitted[0], splitted[1]\n",
    "            if current_age >= int(start_age) and current_age < int(end_age) :\n",
    "                shutil.move(file_path, os.path.join(prepared_data_file_location, age_class))\n",
    "    print('Finished for {}'.format(i))\n",
    "\n"
   ]
  },
  {
   "cell_type": "code",
   "execution_count": 58,
   "metadata": {},
   "outputs": [],
   "source": [
    "train_data_file_location = os.path.join('.', 'train', 'UTKFace')\n",
    "prepared_data_file_location = os.path.join('.', 'train', 'processed_images')\n",
    "age_classes = [\n",
    "    '0_5',\n",
    "    '5_8',\n",
    "    '8_12',\n",
    "    '12_16',\n",
    "    '16_20',\n",
    "    '20_25',\n",
    "    '25_32',\n",
    "    '32_40',\n",
    "    '40_48',\n",
    "    '48_56',\n",
    "    '56_65',\n",
    "    '65_100'\n",
    "]\n",
    "\n",
    "for file in os.listdir(train_data_file_location) :\n",
    "    current_age = int(file.split('_')[0])\n",
    "\n",
    "    file_path = os.path.join(train_data_file_location,file)\n",
    "    for age_class in age_classes :\n",
    "        splitted = age_class.split('_')\n",
    "        start_age, end_age = splitted[0], splitted[1]\n",
    "        if current_age >= int(start_age) and current_age < int(end_age) :\n",
    "            shutil.move(file_path, os.path.join(prepared_data_file_location, age_class))\n",
    "    \n"
   ]
  },
  {
   "cell_type": "code",
   "execution_count": null,
   "metadata": {},
   "outputs": [],
   "source": []
  }
 ],
 "metadata": {
  "interpreter": {
   "hash": "920143e87a6f73e79fa1fb141217bbfe64ea7f87745c1ea1e308e551bfb77c5d"
  },
  "kernelspec": {
   "display_name": "Python 3.8.8 64-bit",
   "language": "python",
   "name": "python3"
  },
  "language_info": {
   "codemirror_mode": {
    "name": "ipython",
    "version": 3
   },
   "file_extension": ".py",
   "mimetype": "text/x-python",
   "name": "python",
   "nbconvert_exporter": "python",
   "pygments_lexer": "ipython3",
   "version": "3.8.8"
  },
  "orig_nbformat": 4
 },
 "nbformat": 4,
 "nbformat_minor": 2
}
