{
 "cells": [
  {
   "cell_type": "code",
   "execution_count": null,
   "metadata": {},
   "outputs": [],
   "source": [
    "# I run this with Python 3.8.8 64-bit\n",
    "# pip install stable_baselines3[extra] \n",
    "# Tutorial video : https://www.youtube.com/watch?v=Mut_u40Sqz4\n",
    "import os\n",
    "import gym\n",
    "from stable_baselines3 import PPO\n",
    "from stable_baselines3.common.vec_env import dummy_vec_env\n",
    "from stable_baselines3.common.evaluation import evaluate_policy\n",
    "\n"
   ]
  },
  {
   "cell_type": "code",
   "execution_count": 14,
   "metadata": {},
   "outputs": [],
   "source": [
    "enviroment_name = 'CartPole-v1'\n",
    "env = gym.make(enviroment_name)"
   ]
  },
  {
   "cell_type": "code",
   "execution_count": 15,
   "metadata": {},
   "outputs": [
    {
     "name": "stdout",
     "output_type": "stream",
     "text": [
      "Episode : 0 Score : 11.0\n",
      "Episode : 1 Score : 31.0\n",
      "Episode : 2 Score : 56.0\n",
      "Episode : 3 Score : 9.0\n",
      "Episode : 4 Score : 13.0\n",
      "Episode : 5 Score : 11.0\n",
      "Episode : 6 Score : 12.0\n",
      "Episode : 7 Score : 15.0\n",
      "Episode : 8 Score : 23.0\n",
      "Episode : 9 Score : 18.0\n",
      "Episode : 10 Score : 8.0\n",
      "Episode : 11 Score : 24.0\n",
      "Episode : 12 Score : 16.0\n",
      "Episode : 13 Score : 16.0\n",
      "Episode : 14 Score : 15.0\n",
      "Episode : 15 Score : 27.0\n",
      "Episode : 16 Score : 14.0\n",
      "Episode : 17 Score : 16.0\n",
      "Episode : 18 Score : 32.0\n",
      "Episode : 19 Score : 13.0\n",
      "Episode : 20 Score : 11.0\n",
      "Episode : 21 Score : 15.0\n",
      "Episode : 22 Score : 9.0\n",
      "Episode : 23 Score : 10.0\n",
      "Episode : 24 Score : 11.0\n",
      "Episode : 25 Score : 46.0\n",
      "Episode : 26 Score : 53.0\n",
      "Episode : 27 Score : 11.0\n",
      "Episode : 28 Score : 13.0\n",
      "Episode : 29 Score : 16.0\n"
     ]
    }
   ],
   "source": [
    "episodes = 30\n",
    "\n",
    "for episode in range(episodes) :\n",
    "    state = env.reset()\n",
    "    done = False\n",
    "    score = 0\n",
    "\n",
    "    while not done :\n",
    "        # Doesn't work with google colab\n",
    "        env.render()\n",
    "        action = env.action_space.sample()\n",
    "        n_state, reward, done, info = env.step(action)\n",
    "        score += reward\n",
    "    print('Episode : {} Score : {}'.format(episode, score))\n",
    "\n",
    "env.close()"
   ]
  },
  {
   "cell_type": "code",
   "execution_count": 13,
   "metadata": {},
   "outputs": [
    {
     "data": {
      "text/plain": [
       "Box([-4.8000002e+00 -3.4028235e+38 -4.1887903e-01 -3.4028235e+38], [4.8000002e+00 3.4028235e+38 4.1887903e-01 3.4028235e+38], (4,), float32)"
      ]
     },
     "execution_count": 13,
     "metadata": {},
     "output_type": "execute_result"
    }
   ],
   "source": [
    "env.action_space\n",
    "env.observation_space\n",
    "\n",
    "PPO()"
   ]
  }
 ],
 "metadata": {
  "interpreter": {
   "hash": "920143e87a6f73e79fa1fb141217bbfe64ea7f87745c1ea1e308e551bfb77c5d"
  },
  "kernelspec": {
   "display_name": "Python 3.8.8 64-bit",
   "language": "python",
   "name": "python3"
  },
  "language_info": {
   "codemirror_mode": {
    "name": "ipython",
    "version": 3
   },
   "file_extension": ".py",
   "mimetype": "text/x-python",
   "name": "python",
   "nbconvert_exporter": "python",
   "pygments_lexer": "ipython3",
   "version": "3.8.8"
  },
  "orig_nbformat": 4
 },
 "nbformat": 4,
 "nbformat_minor": 2
}
